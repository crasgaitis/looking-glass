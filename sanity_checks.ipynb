{
 "cells": [
  {
   "cell_type": "code",
   "execution_count": 20,
   "metadata": {},
   "outputs": [],
   "source": [
    "from PIL import Image\n",
    "\n",
    "black_image = Image.new('RGB', (1024, 1024), color='black')\n",
    "black_image.save(\"static/black_image.png\")"
   ]
  },
  {
   "cell_type": "code",
   "execution_count": 21,
   "metadata": {},
   "outputs": [
    {
     "name": "stdout",
     "output_type": "stream",
     "text": [
      "(1024, 1024): 93\n"
     ]
    }
   ],
   "source": [
    "import os\n",
    "from PIL import Image\n",
    "\n",
    "def get_image_dimensions(folder_path):\n",
    "    dimensions_dict = {}\n",
    "    for filename in os.listdir(folder_path):\n",
    "        if filename.endswith(('.png', '.jpg', '.jpeg', '.gif')):\n",
    "            image_path = os.path.join(folder_path, filename)\n",
    "            with Image.open(image_path) as img:\n",
    "                dimensions = img.size\n",
    "                if dimensions in dimensions_dict:\n",
    "                    dimensions_dict[dimensions] += 1\n",
    "                else:\n",
    "                    dimensions_dict[dimensions] = 1\n",
    "    return dimensions_dict\n",
    "\n",
    "def print_unique_dimension_counts(folder_path):\n",
    "    dimensions_dict = get_image_dimensions(folder_path)\n",
    "    for dimension, count in dimensions_dict.items():\n",
    "        print(f\"{dimension}: {count}\")\n",
    "\n",
    "folder_path = r'\\Users\\catra\\OneDrive\\Documents\\Repos\\looking_glass_new\\static\\images_2\\\\'\n",
    "print_unique_dimension_counts(folder_path)"
   ]
  },
  {
   "cell_type": "code",
   "execution_count": 22,
   "metadata": {},
   "outputs": [
    {
     "name": "stdout",
     "output_type": "stream",
     "text": [
      "Total files in folder: 93\n"
     ]
    }
   ],
   "source": [
    "file_list = os.listdir(folder_path)\n",
    "total_files = len(file_list)\n",
    "print(f\"Total files in folder: {total_files}\")"
   ]
  },
  {
   "cell_type": "code",
   "execution_count": 23,
   "metadata": {},
   "outputs": [],
   "source": [
    "import os\n",
    "import random\n",
    "import shutil\n",
    "\n",
    "\n",
    "images = [img for img in os.listdir(folder_path) if img != \"black_image.png\"]\n",
    "\n",
    "random.shuffle(images)\n",
    "\n",
    "for i, img_name in enumerate(images):\n",
    "    new_name = f\"{i+1}_{img_name}\"\n",
    "    os.rename(os.path.join(folder_path, img_name), os.path.join(folder_path, new_name))\n",
    "\n",
    "    if (i + 1) % 10 == 0:\n",
    "        shutil.copyfile(os.path.join(folder_path, \"black_image.png\"),\n",
    "                        os.path.join(folder_path, f\"{i+1}_black_image.png\"))"
   ]
  },
  {
   "cell_type": "code",
   "execution_count": 24,
   "metadata": {},
   "outputs": [],
   "source": [
    "shutil.copyfile(os.path.join(folder_path, \"black_image.png\"),\n",
    "                os.path.join(folder_path, f\"0_black_image.png\"))\n",
    "\n",
    "shutil.copyfile(os.path.join(folder_path, \"black_image.png\"),\n",
    "                os.path.join(folder_path, f\"93_black_image.png\"))\n",
    "\n",
    "os.remove(os.path.join(folder_path, \"black_image.png\"))"
   ]
  }
 ],
 "metadata": {
  "kernelspec": {
   "display_name": "brainwave_project",
   "language": "python",
   "name": "python3"
  },
  "language_info": {
   "codemirror_mode": {
    "name": "ipython",
    "version": 3
   },
   "file_extension": ".py",
   "mimetype": "text/x-python",
   "name": "python",
   "nbconvert_exporter": "python",
   "pygments_lexer": "ipython3",
   "version": "3.10.13"
  }
 },
 "nbformat": 4,
 "nbformat_minor": 2
}
